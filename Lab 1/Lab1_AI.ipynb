{
 "cells": [
  {
   "cell_type": "markdown",
   "metadata": {},
   "source": [
    "# Artificial Intelligence - Fall 2024 - Laboratory 01 : Python Introduction part I"
   ]
  },
  {
   "cell_type": "markdown",
   "metadata": {},
   "source": [
    "## Introduction\n",
    "\n",
    "Let's start our *Artificial Intelligence* journey with a brief introduction to Python - the scripting language that:\n",
    "\n",
    "* Is easy to learn and read thanks to its \"pseudocode\" syntax;\n",
    "* Allows us to express large projects in fewer lines of code;\n",
    "* Sets the scene for _interactive lessons_ ;) !"
   ]
  },
  {
   "cell_type": "markdown",
   "metadata": {},
   "source": [
    "## The Basics\n",
    "\n",
    "### Speaking of syntax:\n",
    "\n",
    "* For building a code block structure, the language uses whitespaces and indentation;\n",
    "\n",
    "```python\n",
    "# Python comments are marked by #symbol.\n",
    "```\n",
    "\n",
    "* To save your files, please use the .py extension."
   ]
  },
  {
   "cell_type": "markdown",
   "metadata": {},
   "source": [
    "### Variables and Operators\n",
    "\n",
    "Declare meaningful variables names using letters, numbers and underscores (Please be careful with Python keywords or reserved names)."
   ]
  },
  {
   "cell_type": "markdown",
   "metadata": {},
   "source": [
    "**Obs 1:** Python is _dynamically typed_ and instantly infers the data type of the variable."
   ]
  },
  {
   "cell_type": "code",
   "execution_count": 1,
   "metadata": {
    "scrolled": true
   },
   "outputs": [
    {
     "name": "stdout",
     "output_type": "stream",
     "text": [
      "This is my first string! <class 'str'>\n",
      "The assignment operator is \"=\" and my variable 2.0245 is of type: <class 'float'>.\n",
      "my_var = 7.0245 is of type: <class 'float'>.\n",
      "The exponent symbol is ** and my_var equals 49.344.\n"
     ]
    }
   ],
   "source": [
    "# To create variables assign values:\n",
    "my_var = 'This is my first string!' # the end of the statement doesn't require a ;\n",
    "print(my_var, type(my_var))\n",
    "\n",
    "my_var = 2.0245\n",
    "print('The assignment operator is \"=\" and my variable {} is of type: {}.' .format(my_var, type(my_var)))\n",
    "\n",
    "my_var += 5\n",
    "print('my_var = {} is of type: {}.' .format(my_var, type(my_var)))\n",
    "\n",
    "my_var = my_var**2\n",
    "print('The exponent symbol is ** and my_var equals {0:.3f}.' .format(my_var))"
   ]
  },
  {
   "cell_type": "markdown",
   "metadata": {},
   "source": [
    "**Obs 2:** Additionally, the automatic conversion of different data types is not allowed (Python is _strongly typed_)."
   ]
  },
  {
   "cell_type": "code",
   "execution_count": 2,
   "metadata": {},
   "outputs": [
    {
     "name": "stdout",
     "output_type": "stream",
     "text": [
      "Why we like Science? 49.343600249999994\n"
     ]
    }
   ],
   "source": [
    "my_str = 'Why we like Science?'\n",
    "print(my_str + \" \" +  str(my_var))"
   ]
  },
  {
   "cell_type": "markdown",
   "metadata": {},
   "source": [
    "### Task 0\n",
    "_Note: Yes, the laboratory uses zero-based indexing._\n",
    "\n",
    "* Convert `my_var` to integer.\n",
    "* Concatenate `my_str` with `my_var`.\n",
    "\n",
    "_Hint_: Mind the types of the variables you are concatenating.\n",
    "\n",
    "Different type conversion functions are:\n",
    "\n",
    "```python\n",
    "    int(variable)\n",
    "    float(variable)\n",
    "    str(variable)\n",
    "    list(variable)\n",
    "```"
   ]
  },
  {
   "cell_type": "code",
   "execution_count": 3,
   "metadata": {},
   "outputs": [],
   "source": [
    "# Your impelementation here:\n",
    "result = my_str + \" \" + str(int(my_var)) + \".\""
   ]
  },
  {
   "cell_type": "code",
   "execution_count": 4,
   "metadata": {},
   "outputs": [
    {
     "name": "stdout",
     "output_type": "stream",
     "text": [
      "result: Why we like Science? 49.\n"
     ]
    }
   ],
   "source": [
    "print('result: {}' .format(result))\n",
    "assert result == 'Why we like Science? 49.'"
   ]
  },
  {
   "cell_type": "code",
   "execution_count": 5,
   "metadata": {},
   "outputs": [
    {
     "data": {
      "text/plain": [
       "True"
      ]
     },
     "execution_count": 5,
     "metadata": {},
     "output_type": "execute_result"
    }
   ],
   "source": [
    "# To verify if a variable has a reserved name:\n",
    "import keyword\n",
    "\n",
    "keyword.iskeyword('def')"
   ]
  },
  {
   "cell_type": "code",
   "execution_count": 6,
   "metadata": {},
   "outputs": [],
   "source": [
    "# To remove a variable:\n",
    "del my_var\n",
    "#print(my_var)"
   ]
  },
  {
   "cell_type": "markdown",
   "metadata": {},
   "source": [
    "### Task 1\n",
    "\n",
    "Write the _sentence_ string based on existing variables and any additional element.\n",
    "\n",
    "_Hint:_ You might want to take a look at `.format()` or `join()` method before."
   ]
  },
  {
   "cell_type": "code",
   "execution_count": 7,
   "metadata": {},
   "outputs": [],
   "source": [
    "noun = 'layer'\n",
    "verb = 'has'\n",
    "number = 128\n",
    "punctuation = '.'"
   ]
  },
  {
   "cell_type": "code",
   "execution_count": 8,
   "metadata": {},
   "outputs": [
    {
     "name": "stdout",
     "output_type": "stream",
     "text": [
      "This layer has 128 neurons.\n"
     ]
    }
   ],
   "source": [
    "# Your implementation:\n",
    "sentence = 'This {} {} {} neurons{}'.format(noun, verb, number, punctuation)\n",
    "\n",
    "print(sentence)"
   ]
  },
  {
   "cell_type": "code",
   "execution_count": 9,
   "metadata": {},
   "outputs": [
    {
     "name": "stdout",
     "output_type": "stream",
     "text": [
      "sentence: This layer has 128 neurons.\n"
     ]
    }
   ],
   "source": [
    "print('sentence: {}'.format(sentence))\n",
    "assert sentence == 'This layer has 128 neurons.'"
   ]
  },
  {
   "cell_type": "markdown",
   "metadata": {},
   "source": [
    "### Loops\n",
    "\n",
    "```python\n",
    "    for item in sequence:\n",
    "        \"\"\"DO STUFF\"\"\"\n",
    "```\n",
    "\n",
    "Look for `break`, `continue`, `pass` statements [here](https://docs.python.org/3/tutorial/controlflow.html#for-statements).\n"
   ]
  },
  {
   "cell_type": "markdown",
   "metadata": {},
   "source": [
    "### Lists\n",
    "\n",
    "To construct computed lists, we can use _list comprehension_ syntax:\n",
    "\n",
    "```python\n",
    "    my_list = [expression for variable in sequence]\n",
    "```"
   ]
  },
  {
   "cell_type": "code",
   "execution_count": 10,
   "metadata": {},
   "outputs": [
    {
     "name": "stdout",
     "output_type": "stream",
     "text": [
      "A is an empty list: [], type: <class 'list'>\n",
      "B is known as `list display`: [0, 2, 4, 6], the number of items in the list: 4\n"
     ]
    }
   ],
   "source": [
    "A = [] # alternative A = list()\n",
    "print('A is an empty list: {}, type: {}'.format(A, type(A)))\n",
    "\n",
    "B = [0, 2, 4, 6] \n",
    "print('B is known as `list display`: {}, the number of items in the list: {}'.format(B, len(B)))"
   ]
  },
  {
   "cell_type": "markdown",
   "metadata": {},
   "source": [
    "### Task 2\n",
    "\n",
    "**a.** Change the values in list B in odd numbers, in a new list C. Using a `for loop` print list items."
   ]
  },
  {
   "cell_type": "code",
   "execution_count": 11,
   "metadata": {},
   "outputs": [],
   "source": [
    "# Your impelementation here:\n",
    "\n",
    "C = [n+1 for n in B]"
   ]
  },
  {
   "cell_type": "code",
   "execution_count": 12,
   "metadata": {},
   "outputs": [
    {
     "name": "stdout",
     "output_type": "stream",
     "text": [
      "C : [1, 3, 5, 7]\n"
     ]
    }
   ],
   "source": [
    "print('C : {}'.format(C))\n",
    "assert C == [1, 3, 5, 7]"
   ]
  },
  {
   "cell_type": "code",
   "execution_count": 13,
   "metadata": {},
   "outputs": [
    {
     "name": "stdout",
     "output_type": "stream",
     "text": [
      "0\n"
     ]
    }
   ],
   "source": [
    "# To acces values in your list:\n",
    "first_elem = B[0] \n",
    "print(first_elem)"
   ]
  },
  {
   "cell_type": "markdown",
   "metadata": {},
   "source": [
    "**b.** Update the third element of B to 0."
   ]
  },
  {
   "cell_type": "code",
   "execution_count": 14,
   "metadata": {},
   "outputs": [],
   "source": [
    "# Your impelementation here:\n",
    "\n",
    "B[3] = 0"
   ]
  },
  {
   "cell_type": "code",
   "execution_count": 15,
   "metadata": {},
   "outputs": [
    {
     "name": "stdout",
     "output_type": "stream",
     "text": [
      "Updated list: [0, 2, 4, 0]\n"
     ]
    }
   ],
   "source": [
    "print('Updated list: {}'.format(B))\n",
    "assert B == [0, 2, 4, 0]"
   ]
  },
  {
   "cell_type": "markdown",
   "metadata": {},
   "source": [
    "**c.** Extract the middle elements from list B.\n",
    "\n",
    "Return a new list containing the objects between the corresponding start and stop indices, separated by `:`."
   ]
  },
  {
   "cell_type": "code",
   "execution_count": 16,
   "metadata": {},
   "outputs": [],
   "source": [
    "# Your implementation here:\n",
    "\n",
    "diff_elems = B[1:3]"
   ]
  },
  {
   "cell_type": "code",
   "execution_count": 17,
   "metadata": {},
   "outputs": [
    {
     "name": "stdout",
     "output_type": "stream",
     "text": [
      "Distinct elements of B: [2, 4]\n"
     ]
    }
   ],
   "source": [
    "print('Distinct elements of B: {}'.format(diff_elems))\n",
    "assert diff_elems == [2, 4]"
   ]
  },
  {
   "cell_type": "markdown",
   "metadata": {},
   "source": [
    "### Dictionaires\n",
    "\n",
    "#### An unordered collection of items, where each item has a `key` and a corresponding `value`.\n",
    "\n",
    "Syntax:\n",
    "\n",
    "```python\n",
    "# To return key-value pairs:\n",
    "\n",
    "dictionary.items()\n",
    "```"
   ]
  },
  {
   "cell_type": "code",
   "execution_count": 18,
   "metadata": {},
   "outputs": [],
   "source": [
    "# Empty dictionary:\n",
    "my_dict = {} # alternative my_dict = dict()\n",
    "\n",
    "# Populating a dictionary:\n",
    "scientists_dict = {1: 'Geoffrey Hinton', 2: 'Yoshua Bengio', 3: 'Yann LeCun'}"
   ]
  },
  {
   "cell_type": "code",
   "execution_count": 19,
   "metadata": {},
   "outputs": [
    {
     "name": "stdout",
     "output_type": "stream",
     "text": [
      "dict_items([(1, 'Geoffrey Hinton'), (2, 'Yoshua Bengio'), (3, 'Yann LeCun')])\n",
      "dict_keys([1, 2, 3])\n",
      "dict_values(['Geoffrey Hinton', 'Yoshua Bengio', 'Yann LeCun'])\n"
     ]
    }
   ],
   "source": [
    "# Your implementation here: \n",
    "# Display items:\n",
    "print(scientists_dict.items())\n",
    "\n",
    "# Keys:\n",
    "print(scientists_dict.keys())\n",
    "\n",
    "# Values:\n",
    "print(scientists_dict.values())"
   ]
  },
  {
   "cell_type": "markdown",
   "metadata": {},
   "source": [
    "To access elements from a dictionary, we can apply `keys` inside `[]` or with `get()` method."
   ]
  },
  {
   "cell_type": "code",
   "execution_count": 20,
   "metadata": {},
   "outputs": [
    {
     "name": "stdout",
     "output_type": "stream",
     "text": [
      "Geoffrey Hinton\n"
     ]
    }
   ],
   "source": [
    "print(scientists_dict[1])"
   ]
  },
  {
   "cell_type": "code",
   "execution_count": 21,
   "metadata": {},
   "outputs": [],
   "source": [
    "del scientists_dict[3]"
   ]
  },
  {
   "cell_type": "markdown",
   "metadata": {},
   "source": [
    "### Task 3\n",
    "\n",
    "**a.** Fill the missing parts of the following sentences, and try to access the 3rd item of the dictionary, using both options presented above."
   ]
  },
  {
   "cell_type": "code",
   "execution_count": 22,
   "metadata": {},
   "outputs": [],
   "source": [
    "# Your implementation here\n",
    "\n",
    "#print(scientists_dict.get(3))\n",
    "#print(scientists_dict[3])"
   ]
  },
  {
   "cell_type": "markdown",
   "metadata": {},
   "source": [
    "\n",
    "- Accessing a missing key will raise `KeyError` error if we use the square brackets.\n",
    "- The `get` method returns `default`."
   ]
  },
  {
   "cell_type": "markdown",
   "metadata": {},
   "source": [
    "**b.** Now update the 3rd item of the dictionary with a _string_ as a key, `scientists_dict` becomes a collection with `mixed keys`.\n",
    " For this new key, add a researcher of your choice."
   ]
  },
  {
   "cell_type": "code",
   "execution_count": null,
   "metadata": {},
   "outputs": [],
   "source": [
    "# Your implementation here:\n",
    "\n",
    "scientists_dict[\"3rd\"] = \"Gauss\""
   ]
  },
  {
   "cell_type": "code",
   "execution_count": 24,
   "metadata": {},
   "outputs": [
    {
     "name": "stdout",
     "output_type": "stream",
     "text": [
      "Updated dictionary {1: 'Geoffrey Hinton', 2: 'Yoshua Bengio', '3': 'Gauss'}\n"
     ]
    }
   ],
   "source": [
    "print('Updated dictionary {}'.format(scientists_dict))"
   ]
  },
  {
   "cell_type": "markdown",
   "metadata": {},
   "source": [
    "### Decision making\n",
    "\n",
    "```python\n",
    "if is_expression1a_valid and is_expression1b_valid:\n",
    "    execute_statement1\n",
    "elif is_optional_expression2a_valid or is_optional_expression2a_valid:\n",
    "    execute_statement2\n",
    "elif is_item in optional_expression3:\n",
    "    execute_statement3\n",
    "else:\n",
    "    execute_statement4\n",
    "```"
   ]
  },
  {
   "cell_type": "markdown",
   "metadata": {},
   "source": [
    "**c.** Presuming that `publications` dictionary stores the academic footprint (h-index) left by some of the well known researchers in the AI field, use `list comprehension` to obtain the number of publications.\n",
    "\n",
    "_Hint:_ Take into account only numeric values. "
   ]
  },
  {
   "cell_type": "code",
   "execution_count": 25,
   "metadata": {},
   "outputs": [],
   "source": [
    "publications = {'bengio' : 168,\n",
    "                'lecun' : 'computerVision',\n",
    "                'hinton' : 156,\n",
    "                'feifei' : 104,\n",
    "                'koller' : 142,\n",
    "                'elKaliouby' : 'emotionalAI'\n",
    "               }"
   ]
  },
  {
   "cell_type": "code",
   "execution_count": 26,
   "metadata": {},
   "outputs": [
    {
     "data": {
      "text/plain": [
       "'TO DO'"
      ]
     },
     "execution_count": 26,
     "metadata": {},
     "output_type": "execute_result"
    }
   ],
   "source": [
    "# Your implementation here:\n",
    "\n",
    "'TO DO'"
   ]
  },
  {
   "cell_type": "code",
   "execution_count": 27,
   "metadata": {},
   "outputs": [
    {
     "ename": "NameError",
     "evalue": "name 'total_publications' is not defined",
     "output_type": "error",
     "traceback": [
      "\u001b[1;31m---------------------------------------------------------------------------\u001b[0m",
      "\u001b[1;31mNameError\u001b[0m                                 Traceback (most recent call last)",
      "Cell \u001b[1;32mIn[27], line 1\u001b[0m\n\u001b[1;32m----> 1\u001b[0m \u001b[38;5;28mprint\u001b[39m(total_publications)\n",
      "\u001b[1;31mNameError\u001b[0m: name 'total_publications' is not defined"
     ]
    }
   ],
   "source": [
    "print(total_publications)"
   ]
  },
  {
   "cell_type": "code",
   "execution_count": null,
   "metadata": {},
   "outputs": [],
   "source": [
    "assert total_publications == 570"
   ]
  },
  {
   "cell_type": "markdown",
   "metadata": {},
   "source": [
    "### Idiomatic loops\n",
    "\n",
    "* Iterating over a range of numbers:\n",
    "\n",
    "```python\n",
    "    for val in range(int_val):\n",
    "        \"\"\"DO STUFF\"\"\"\n",
    "```\n",
    "\n",
    "* Retrieving the index of a list:\n",
    "\n",
    "```python\n",
    "    for i, val in enumerate(my_list):\n",
    "        \"\"\"DO STUFF\"\"\n",
    "```\n",
    "\n",
    "* As well as its elements:\n",
    "\n",
    "```python\n",
    "    for item in my_list:\n",
    "        \"\"\"DO STUFF\"\"\"\n",
    "```"
   ]
  },
  {
   "cell_type": "markdown",
   "metadata": {},
   "source": [
    "### Task 4\n",
    "\n",
    "Create a new string from even numbered characters in `my_str = awareness`. Please use an idiomatic loop."
   ]
  },
  {
   "cell_type": "code",
   "execution_count": null,
   "metadata": {},
   "outputs": [],
   "source": [
    "# Your implementation\n",
    "\n",
    "'TO DO'"
   ]
  },
  {
   "cell_type": "code",
   "execution_count": null,
   "metadata": {},
   "outputs": [],
   "source": [
    "assert new_str == 'aaees'"
   ]
  },
  {
   "cell_type": "markdown",
   "metadata": {},
   "source": [
    "### Task 5\n",
    "\n",
    "Given `n = 9`, write a script to generate a dictionary that contains integer `keys ∈ [1, 9]`.\n",
    "\n",
    "**a.** Your values should be computed by the following formula:\n",
    "\n",
    "\\begin{equation*}\n",
    "values   = ax^2 + bx,\n",
    "\\end{equation*}\n",
    "\n",
    "where x is also an integer number between 1 and n, a=2 and b=3.\n",
    "\n",
    "**b.** Split the values from the dictionary that are divisible by 3, respectively 2, into two different lists.\n",
    "\n",
    "**c.** Check if the two lists from point _b._ have any element in common, and create a new list (sorted) removing their intersection. "
   ]
  },
  {
   "cell_type": "code",
   "execution_count": null,
   "metadata": {},
   "outputs": [],
   "source": [
    "'TO DO'"
   ]
  },
  {
   "cell_type": "markdown",
   "metadata": {},
   "source": [
    "## Naming Conventions for Functions in Python:\n",
    "\n",
    "### **Dos:**\n",
    "\n",
    "* Ordinary letters, numbers and underscores\n",
    "* Descriptive names\n",
    "\n",
    "```python\n",
    "def build_network(net_name):\n",
    "    \"\"\"DO STUFF\"\"\"\n",
    "```\n",
    "\n",
    "### ~~**Don'ts:**~~\n",
    "\n",
    "* Spaces\n",
    "* Reserved words\n",
    "* Built-in functions\n",
    "\n",
    "```python\n",
    "def build Network(mnist cifar coco):\n",
    "    \"\"\"DO STUFF\"\"\"\n",
    "```"
   ]
  },
  {
   "cell_type": "markdown",
   "metadata": {},
   "source": [
    "### Default Arguments"
   ]
  },
  {
   "cell_type": "code",
   "execution_count": null,
   "metadata": {},
   "outputs": [],
   "source": [
    "def volume_cone(height, radius=2.4):\n",
    "    pi = 3.14\n",
    "    return pi * radius ** 2 * height / 3"
   ]
  },
  {
   "cell_type": "code",
   "execution_count": null,
   "metadata": {},
   "outputs": [
    {
     "name": "stdout",
     "output_type": "stream",
     "text": [
      "The volume of a cone is: 54.2592\n"
     ]
    }
   ],
   "source": [
    "# Case1: radius is omitted in volume_cone function call.\n",
    "v = volume_cone(height=9) # height is passed in by name\n",
    "print('The volume of a cone is: {}' .format(v))"
   ]
  },
  {
   "cell_type": "code",
   "execution_count": null,
   "metadata": {},
   "outputs": [
    {
     "name": "stdout",
     "output_type": "stream",
     "text": [
      "The volume of a cone is: 84.78\n"
     ]
    }
   ],
   "source": [
    "# Case2: the default value of radius=2.4 is overwritten.\n",
    "v = volume_cone(9, 3) # height and radius are passed in by position\n",
    "print('The volume of a cone is: {}' .format(v))"
   ]
  },
  {
   "cell_type": "markdown",
   "metadata": {},
   "source": [
    "### Task 6\n",
    "\n",
    "**a.** Call the function name with appropriate parameters in the code section below."
   ]
  },
  {
   "cell_type": "code",
   "execution_count": null,
   "metadata": {},
   "outputs": [],
   "source": [
    "def choose_researcher(name):\n",
    "    print('The researcher I am going to present for Special Task is {}.' .format(name))"
   ]
  },
  {
   "cell_type": "code",
   "execution_count": null,
   "metadata": {},
   "outputs": [
    {
     "data": {
      "text/plain": [
       "'TO DO'"
      ]
     },
     "execution_count": 7,
     "metadata": {},
     "output_type": "execute_result"
    }
   ],
   "source": [
    "# Your implementation here:\n",
    "\n",
    "'TO DO'"
   ]
  },
  {
   "cell_type": "markdown",
   "metadata": {},
   "source": [
    "### Slicing Strings\n",
    "\n",
    "The string slice function creates substrings by following the rule:\n",
    "\n",
    "```python\n",
    "string_object[start_index:end_index:step]\n",
    "```\n",
    "\n",
    "Besides,\n",
    "\n",
    "```python\n",
    "string_object[:index] + string_object[index:] == string_object\n",
    "```"
   ]
  },
  {
   "cell_type": "code",
   "execution_count": null,
   "metadata": {},
   "outputs": [
    {
     "name": "stdout",
     "output_type": "stream",
     "text": [
      "Practice\n",
      "ecitcarP\n"
     ]
    }
   ],
   "source": [
    "s = 'Practice makes perfect!'\n",
    "first_word = s[:8]\n",
    "print(first_word)\n",
    "first_word_reversed = first_word[::-1]\n",
    "print(first_word_reversed)"
   ]
  },
  {
   "cell_type": "markdown",
   "metadata": {},
   "source": [
    "**b.** Build a program in a text editor of your choice and use the prompt to run it.\n",
    "\n",
    "It can be a useful strategy to do:\n",
    "\n",
    " `>>> conda activate myenv` (add the current path of your script).\n",
    " \n",
    " `>>> python myscript.py`\n",
    " \n",
    " `...`\n",
    " \n",
    " `>>> conda deactivate`\n",
    " \n",
    "```python\n",
    "def do_stuff():\n",
    "    \"\"\"This function extracts\n",
    "    the required slices from \n",
    "    a given string passed in \n",
    "    as a parameter and returns\n",
    "    a new string.\n",
    "    \"\"\"\n",
    "        return # Your implementation here.\n",
    "    \n",
    "if __name__ == '__main__':\n",
    "    str_arg = 'The AI journey is the perfect opportunity to expand one`s horizons.'\n",
    "    # Call function.\n",
    "    # The expected new string is 'AI horizons.'\n",
    "```"
   ]
  },
  {
   "cell_type": "markdown",
   "metadata": {},
   "source": [
    "**c.** Calculate the number of upper case letters, lower case letters and punctuation marks used in a given sentence.\n",
    "For the string used before, the output should be:\n",
    "\n",
    "`UPPER CASE 3, lower case 52 and punctuation marks 2.`\n",
    "\n",
    "_Note_: A set of built-in methods that you can use on strings are `str.upper()`, `str.isupper()` ,`str.lower()`, `str.islower()`, `str.title()`."
   ]
  },
  {
   "cell_type": "code",
   "execution_count": null,
   "metadata": {},
   "outputs": [],
   "source": [
    "def compute_characters(sentence):\n",
    "    ### Your implementation here:\n",
    "    \n",
    "    \"\"\"DO STUFF\"\"\"\n",
    "    \n",
    "    ###\n",
    "    \n",
    "    print(\"UPPER CASE {}, lower case {} and punctuation marks {}.\" .format(d[\"upper_ch\"], d[\"lower_ch\"], d[\"puncts\"]))\n",
    "    \n",
    "str_arg = 'The AI journey is the perfect opportunity to expand one`s horizons.'\n",
    "compute_characters(str_arg)"
   ]
  },
  {
   "cell_type": "markdown",
   "metadata": {},
   "source": [
    "### Multiple Arguments `(*args)` and keyword arguments `(**kwargs)`\n",
    "\n",
    "_Note:_ Used to make the function flexible."
   ]
  },
  {
   "cell_type": "code",
   "execution_count": null,
   "metadata": {},
   "outputs": [
    {
     "name": "stdout",
     "output_type": "stream",
     "text": [
      "9\n"
     ]
    }
   ],
   "source": [
    "def compute_sum(a, b):\n",
    "    return a + b\n",
    "print(compute_sum(4, 5))"
   ]
  },
  {
   "cell_type": "code",
   "execution_count": null,
   "metadata": {},
   "outputs": [],
   "source": [
    "def compute_sum(*args):\n",
    "    print('Type of iterable object args {}.' .format(type(args)))\n",
    "    count = 0\n",
    "    for a in args:\n",
    "        count += a\n",
    "    return count"
   ]
  },
  {
   "cell_type": "code",
   "execution_count": null,
   "metadata": {},
   "outputs": [
    {
     "name": "stdout",
     "output_type": "stream",
     "text": [
      "Type of iterable object args <class 'tuple'>.\n",
      "Result:  9.75\n"
     ]
    }
   ],
   "source": [
    "result = compute_sum(0.5, 2.25, 7)\n",
    "print('Result: ', result)"
   ]
  },
  {
   "cell_type": "markdown",
   "metadata": {},
   "source": [
    "**Obs:** The `args` argument is a name, the key-element is the unpacking operator `*`."
   ]
  },
  {
   "cell_type": "markdown",
   "metadata": {},
   "source": [
    "### Task 7\n",
    "\n",
    "**a.** Define a tuple of integers containing your day and birthday month, followed by your initials written as characters. Then replace the numbers within the list with the current date."
   ]
  },
  {
   "cell_type": "code",
   "execution_count": null,
   "metadata": {},
   "outputs": [
    {
     "data": {
      "text/plain": [
       "'TO DO'"
      ]
     },
     "execution_count": 13,
     "metadata": {},
     "output_type": "execute_result"
    }
   ],
   "source": [
    "# Define tuple and replace its integers:\n",
    "\n",
    "'TO DO'"
   ]
  },
  {
   "cell_type": "code",
   "execution_count": null,
   "metadata": {},
   "outputs": [
    {
     "data": {
      "text/plain": [
       "'TO DO'"
      ]
     },
     "execution_count": 14,
     "metadata": {},
     "output_type": "execute_result"
    }
   ],
   "source": [
    "# How can tuple's values be changed?\n",
    "\n",
    "'TO DO'"
   ]
  },
  {
   "cell_type": "markdown",
   "metadata": {},
   "source": [
    "Find the difference between `lists` and `tuples`.\n",
    "\n",
    "`Lists` are ____________ while `tuples` are ____________."
   ]
  },
  {
   "cell_type": "markdown",
   "metadata": {},
   "source": [
    "**b.** `**kwargs` has a similar role as `*args` for _keyword arguments_. Define a function in which the arguments are passed as a standard dictionary. \n",
    "\n",
    "Given the follwing informations:\n",
    "\n",
    "```python\n",
    "Student Firstname: kwarg1\n",
    "Student Lastname: kwarg2\n",
    "Research Interests: kwarg3\n",
    "Thesis Proposal: kwarg4\n",
    "```\n",
    "\n",
    "Your output should look like:\n",
    "\n",
    "`[Student Name] is interested in [fields collection] and wrote [thesis proposal name].`,  if `kwargs4` exists.\n",
    "\n",
    "`[Student Name] is interested in [fields collection].`, otherwise."
   ]
  },
  {
   "cell_type": "code",
   "execution_count": null,
   "metadata": {},
   "outputs": [
    {
     "data": {
      "text/plain": [
       "'TO DO'"
      ]
     },
     "execution_count": 15,
     "metadata": {},
     "output_type": "execute_result"
    }
   ],
   "source": [
    "# Your implementation here:\n",
    "\n",
    "'TO DO'"
   ]
  },
  {
   "cell_type": "markdown",
   "metadata": {},
   "source": [
    "**The unpacking procedure**\n",
    "\n",
    "The `*` single asterisk operator can extract the content of any iterable object, while the `**` double-asterisk operates on dictionaries."
   ]
  },
  {
   "cell_type": "code",
   "execution_count": null,
   "metadata": {},
   "outputs": [
    {
     "name": "stdout",
     "output_type": "stream",
     "text": [
      "[0, 1, 4, 9, 16]\n"
     ]
    }
   ],
   "source": [
    "numbers = [x**2 for x in range(5)]\n",
    "print(numbers)"
   ]
  },
  {
   "cell_type": "code",
   "execution_count": null,
   "metadata": {},
   "outputs": [
    {
     "name": "stdout",
     "output_type": "stream",
     "text": [
      "0 1 4 9 16\n"
     ]
    }
   ],
   "source": [
    "print(*numbers)"
   ]
  },
  {
   "cell_type": "markdown",
   "metadata": {},
   "source": [
    "**c.** The university administration has a dictionary with the same keys used for the previous dictionary with a default value of `None` for the thesis proposal key. However, a student's information requires an update.\n",
    "\n",
    "Define a function which takes as arguments the title of a thesis proposal and the information stored in the dictionary.\n",
    "\n",
    "_Note:_ Use `dict1.update(dict2)` paradigm to perform the update."
   ]
  },
  {
   "cell_type": "code",
   "execution_count": null,
   "metadata": {},
   "outputs": [
    {
     "data": {
      "text/plain": [
       "'TO DO'"
      ]
     },
     "execution_count": 18,
     "metadata": {},
     "output_type": "execute_result"
    }
   ],
   "source": [
    "# Your implementation here:\n",
    "\n",
    "'TO DO'"
   ]
  },
  {
   "cell_type": "markdown",
   "metadata": {},
   "source": [
    "### More functionalities"
   ]
  },
  {
   "cell_type": "code",
   "execution_count": null,
   "metadata": {},
   "outputs": [
    {
     "data": {
      "image/png": "[encoded data removed]",
      "text/plain": [
       "<Figure size 432x288 with 1 Axes>"
      ]
     },
     "metadata": {
      "needs_background": "light"
     },
     "output_type": "display_data"
    }
   ],
   "source": [
    "import matplotlib \n",
    "import matplotlib.pyplot as plt \n",
    "\n",
    "fig = plt.figure() \n",
    "ax = fig.add_subplot(111) \n",
    "  \n",
    "rectangle = matplotlib.patches.Rectangle((0, 200), 200, 300, color='yellow') \n",
    "  \n",
    "ax.add_patch(rectangle)\n",
    "  \n",
    "plt.xlim([-10, 250]) \n",
    "plt.ylim([0, 600]) \n",
    "  \n",
    "plt.show()"
   ]
  },
  {
   "cell_type": "code",
   "execution_count": null,
   "metadata": {},
   "outputs": [
    {
     "name": "stdout",
     "output_type": "stream",
     "text": [
      "[]\n",
      "[(200, 200), (0, 200), (500, 0), (200, 500)]\n"
     ]
    }
   ],
   "source": [
    "s = 'ABCD'\n",
    "points = []\n",
    "print(points)\n",
    "coord = [(200, 200), (0, 200), (500, 0), (200, 500)]\n",
    "print(coord)"
   ]
  },
  {
   "cell_type": "markdown",
   "metadata": {},
   "source": [
    "* Add elements to an empty list with `append()` function."
   ]
  },
  {
   "cell_type": "code",
   "execution_count": null,
   "metadata": {},
   "outputs": [
    {
     "name": "stdout",
     "output_type": "stream",
     "text": [
      "['A', 'B', 'C', 'D']\n"
     ]
    }
   ],
   "source": [
    "for c in s:\n",
    "    points.append(c)\n",
    "print(points)"
   ]
  },
  {
   "cell_type": "markdown",
   "metadata": {},
   "source": [
    "* `zip()` function pairs together the values coming from `points` and `coord`."
   ]
  },
  {
   "cell_type": "code",
   "execution_count": null,
   "metadata": {},
   "outputs": [
    {
     "name": "stdout",
     "output_type": "stream",
     "text": [
      "{'A': (200, 200), 'B': (0, 200), 'C': (500, 0), 'D': (200, 500)}\n"
     ]
    }
   ],
   "source": [
    "rectangle = dict(zip(points, coord))\n",
    "print(rectangle)"
   ]
  },
  {
   "cell_type": "markdown",
   "metadata": {},
   "source": [
    "### Task 8\n",
    "\n",
    "Convert `coord` list into individual lists."
   ]
  },
  {
   "cell_type": "code",
   "execution_count": null,
   "metadata": {},
   "outputs": [
    {
     "data": {
      "text/plain": [
       "'TO DO'"
      ]
     },
     "execution_count": 23,
     "metadata": {},
     "output_type": "execute_result"
    }
   ],
   "source": [
    "# Your implementation here:\n",
    "\n",
    "'TO DO'"
   ]
  }
 ],
 "metadata": {
  "kernelspec": {
   "display_name": "base",
   "language": "python",
   "name": "python3"
  },
  "language_info": {
   "codemirror_mode": {
    "name": "ipython",
    "version": 3
   },
   "file_extension": ".py",
   "mimetype": "text/x-python",
   "name": "python",
   "nbconvert_exporter": "python",
   "pygments_lexer": "ipython3",
   "version": "3.12.7"
  }
 },
 "nbformat": 4,
 "nbformat_minor": 4
}
