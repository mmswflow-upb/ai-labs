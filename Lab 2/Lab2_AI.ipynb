{
 "cells": [
  {
   "cell_type": "markdown",
   "metadata": {
    "id": "gVtTU731ugud"
   },
   "source": [
    "# Artificial Intelligence - Laboratory 02:Python Introduction part II\n"
   ]
  },
  {
   "cell_type": "markdown",
   "metadata": {},
   "source": [
    "##### Review"
   ]
  },
  {
   "cell_type": "markdown",
   "metadata": {},
   "source": [
    "The following formula computes a _Z score_ and measures how far a single raw data value is from the population mean.\n",
    "\n",
    "\\begin{equation*}\n",
    "z = \\frac{X - \\mu }{\\sigma }\n",
    "\\end{equation*}\n",
    "\n",
    "where:\n",
    "* **_X_** is a single raw data value\n",
    "* `mu` is the population mean\n",
    "* `sigma` is the population standard deviation\n",
    "\n",
    "To find the standard deviation, the equation below comes in hand:\n",
    "\n",
    "\\begin{equation*}\n",
    "\\sigma = \\sqrt{\\frac{\\sum \\left | X - \\mu \\right |^{2}}{N}}\n",
    "\\end{equation*}\n",
    "\n",
    "where **_N_** is the number of data points in the population."
   ]
  },
  {
   "cell_type": "markdown",
   "metadata": {},
   "source": [
    "**a.** Using `sum()` and `list comprehension`, compute the mean and the standard deviation for the population defined below:"
   ]
  },
  {
   "cell_type": "code",
   "execution_count": 2,
   "metadata": {},
   "outputs": [
    {
     "name": "stdout",
     "output_type": "stream",
     "text": [
      "[4.5, 5, 5.5, 6, 6.25, 7, 15.25, 18, 18.45, 21, 21.45, 23]\n"
     ]
    }
   ],
   "source": [
    "import math\n",
    "data =  [4.5, 5, 5.5, 6, 6.25, 7, 15.25, 18, 18.45, 21, 21.45, 23]\n",
    "print(data)\n"
   ]
  },
  {
   "cell_type": "code",
   "execution_count": 3,
   "metadata": {},
   "outputs": [
    {
     "name": "stdout",
     "output_type": "stream",
     "text": [
      "12.616666666666667\n",
      "7.167441818544622\n"
     ]
    }
   ],
   "source": [
    "# Your implementation here:\n",
    "mean = sum(data)/len(data)\n",
    "std = math.sqrt(sum([(x-mean)**2 for x in data])/len(data))\n",
    "\n",
    "print(mean)\n",
    "print(std)\n"
   ]
  },
  {
   "cell_type": "markdown",
   "metadata": {},
   "source": [
    "**b.** Define the `z_score()` function and implement the mathematical expression. The obtained values should be stored in a _z score_ values list and rounded to 3 decimals."
   ]
  },
  {
   "cell_type": "code",
   "execution_count": 4,
   "metadata": {},
   "outputs": [
    {
     "data": {
      "text/plain": [
       "[-1.132,\n",
       " -1.063,\n",
       " -0.993,\n",
       " -0.923,\n",
       " -0.888,\n",
       " -0.784,\n",
       " 0.367,\n",
       " 0.751,\n",
       " 0.814,\n",
       " 1.17,\n",
       " 1.232,\n",
       " 1.449]"
      ]
     },
     "execution_count": 4,
     "metadata": {},
     "output_type": "execute_result"
    }
   ],
   "source": [
    "# Your implementatio here:\n",
    "def z_score(x, mu, sigma):\n",
    "    if sigma == 0:\n",
    "        raise ValueError(\"Standard deviation is zero; z-scores undefined.\")\n",
    "    return (x - mu) / sigma\n",
    "\n",
    "z_scores = [round(z_score(x, mean, std), 3) for x in data]\n",
    "z_scores\n"
   ]
  },
  {
   "cell_type": "markdown",
   "metadata": {},
   "source": [
    "**c.** Add the corresponding elongation of each raw data value into a dictionary."
   ]
  },
  {
   "cell_type": "code",
   "execution_count": 5,
   "metadata": {},
   "outputs": [
    {
     "data": {
      "text/plain": [
       "{4.5: 1.132,\n",
       " 5: 1.063,\n",
       " 5.5: 0.993,\n",
       " 6: 0.923,\n",
       " 6.25: 0.888,\n",
       " 7: 0.784,\n",
       " 15.25: 0.367,\n",
       " 18: 0.751,\n",
       " 18.45: 0.814,\n",
       " 21: 1.17,\n",
       " 21.45: 1.232,\n",
       " 23: 1.449}"
      ]
     },
     "execution_count": 5,
     "metadata": {},
     "output_type": "execute_result"
    }
   ],
   "source": [
    "# Your implementatio here:\n",
    "elongation = {x: round(abs(z), 3) for x, z in zip(data, z_scores)}\n",
    "elongation\n"
   ]
  },
  {
   "cell_type": "markdown",
   "metadata": {
    "id": "18ICxssnuguh"
   },
   "source": [
    "## Classes\n",
    "\n",
    "The object-oriented programming paradigm in Python helps with structuring programs into `individual objects`. But how?\n",
    "\n",
    "* An Object **O** from a class **C** has a set of properties **_p_** and actions **_a_**.\n",
    "\n",
    "* The functions of a class are called `methods`. Their responsibility is to model the data corresponding to a given object.\n",
    "\n",
    "* The objects of a class are known as `instances` and represent the source of collecting data.\n",
    "\n",
    "```python\n",
    "\n",
    "class EmptyClas:\n",
    "    \"\"\"\n",
    "    This is a class without variables and methods\n",
    "    \"\"\"\n",
    "    pass # The keyword pass is a placeholder\n",
    "\n",
    "\n",
    "class MyClass:\n",
    "    # A class variable\n",
    "    name = 'My Class'\n",
    "    \n",
    "    def my_method(self, my_var):\n",
    "        # An instance variable\n",
    "        self.my_instance = my_var\n",
    "```"
   ]
  },
  {
   "cell_type": "code",
   "execution_count": 6,
   "metadata": {
    "id": "XhgoWxJGuguk"
   },
   "outputs": [],
   "source": [
    "# Implement Task 0 b and c here:\n",
    "\n",
    "class ScientificConference:\n",
    "    \"\"\"\n",
    "    To define the properties of a class, \n",
    "    we use a special method called __init__.\n",
    "    \n",
    "    The special variable called \"self\"\n",
    "    helps with associating the attributes\n",
    "    w\\\\ the new object: similar to `this`\n",
    "    keyword from other programming languages\n",
    "    and required to address variables from\n",
    "    classes. \n",
    "    \"\"\"\n",
    "    def __init__(self, name, year, papers):\n",
    "        \"\"\"\n",
    "        Establish the attributes of the\n",
    "        class and assign values to the \n",
    "        corresponding parameters.\n",
    "        \"\"\" \n",
    "        self.name = name\n",
    "        self.year = year\n",
    "        \"\"\"\n",
    "        b. Add new attribute `papers`\n",
    "        \"\"\"\n",
    "        if (papers is None):\n",
    "            self.papers = {}\n",
    "        else:\n",
    "            # handle duplicate entries by removing them (per researcher)\n",
    "            # preserve order using dict.fromkeys\n",
    "            self.papers = {\n",
    "                author: list(dict.fromkeys(titles))\n",
    "                for author, titles in papers.items()\n",
    "            }\n",
    "\n",
    "\n",
    "    \n",
    "    def add_manuscript(self, title, researcher):\n",
    "        # c. Add (researcher -> [titles]) and avoid duplicates\n",
    "        if researcher in self.papers.keys():\n",
    "            if title not in self.papers[researcher]:\n",
    "                self.papers[researcher].append(title)\n",
    "        else:\n",
    "            self.papers[researcher] = [title]\n",
    "\n",
    "    def __str__(self):\n",
    "        \"\"\"\n",
    "        To return the String representation of\n",
    "        an object, we use the __str__ method. \n",
    "        \"\"\"\n",
    "        result = self.name + ' ' + str(self.year) + ': \\n'\n",
    "        for author, papers in self.papers.items():\n",
    "            result += f'{author}: {\", \".join([str(paper) for paper in papers])} \\n'\n",
    "        return result\n"
   ]
  },
  {
   "cell_type": "markdown",
   "metadata": {
    "id": "6xdy3BZ7ugu1"
   },
   "source": [
    "### Task 0\n",
    "\n",
    "**a.** Define two new `instances` of the `class ScientificConference` and return their representations.\n",
    "\n",
    "Your output should look like:\n",
    "\n",
    "`Proposals for ICML and NeurIPS conferences will be accepted until the end of November 2021.`\n",
    "\n",
    "_Hint:_ `instance.attribute` helps you extracting a certain property."
   ]
  },
  {
   "cell_type": "code",
   "execution_count": 7,
   "metadata": {
    "id": "ezLUEAgkugu5"
   },
   "outputs": [
    {
     "name": "stdout",
     "output_type": "stream",
     "text": [
      "UPB AI Conf. 2000: \n",
      "nlp: word2vec \n",
      "gen ai: gpt \n",
      "\n",
      "UBB AI conf. 2000: \n",
      "gpt: transformers \n",
      "face recognition: eigenfaces \n",
      "\n"
     ]
    }
   ],
   "source": [
    "sc  = ScientificConference(\"UPB AI Conf.\", 2000, {\"nlp\": [\"word2vec\"], \"gen ai\": [\"gpt\"]})\n",
    "sc2 = ScientificConference(\"UBB AI conf.\", 2000, {\"gpt\": [\"transformers\"], \"face recognition\": [\"eigenfaces\"]})\n",
    "\n",
    "print(sc)\n",
    "print(sc2)\n"
   ]
  },
  {
   "cell_type": "markdown",
   "metadata": {
    "id": "7ZvLz1GZugvC"
   },
   "source": [
    "**b.** Create a new attribute for the `class ScientificConference`, which is a dictionary passed as a parameter to the instances of the class and holds all of the papers of the conference.\n",
    "\n",
    "_Note:_ You should check if `papers` is `None` in `__init__` and set it to `{}` instead.\n",
    "\n",
    "_Please handle duplicate entries by removing them!_"
   ]
  },
  {
   "cell_type": "markdown",
   "metadata": {
    "id": "Tw7tlZtTugvF"
   },
   "source": [
    "**c.** Define the `add_manuscript` method which generates new entries in the dictionary described before. Please consider using the _researcher_ as a `key` and the _title_ as `values`."
   ]
  },
  {
   "cell_type": "code",
   "execution_count": 8,
   "metadata": {},
   "outputs": [
    {
     "name": "stdout",
     "output_type": "stream",
     "text": [
      "UPB AI Conf. 2000: \n",
      "nlp: word2vec \n",
      "gen ai: gpt \n",
      "mario: markov chains, markov chains 2 \n",
      "\n"
     ]
    }
   ],
   "source": [
    "\n",
    "sc.add_manuscript(\"markov chains\", \"mario\")\n",
    "sc.add_manuscript(\"markov chains 2\", \"mario\")\n",
    "sc.add_manuscript(\"markov chains\", \"mario\")  \n",
    "print(sc)\n"
   ]
  },
  {
   "cell_type": "markdown",
   "metadata": {
    "id": "HUKrHifWugvP"
   },
   "source": [
    "### Task 1\n",
    "\n",
    "**a.** Define the class `Person` which stores the `title`, `name` and `surname` of a person.\n",
    "\n",
    "The _tuple_ `allowed_titles` is a class variable which helps to verify if the title of a person is \"Mr\", \"Mrs\", \"Ms\", \"Senior Researcher\", \"Professor of CS\" or \"Computer Scientist\".\n",
    "\n",
    "An error is returned if the title is not valid.\n",
    "\n",
    "Use `__str__` defined below:\n",
    "\n",
    "```python\n",
    "    def __str__(self):\n",
    "        return self.title + ' ' + self.surname + ' ' + self.name\n",
    "```"
   ]
  },
  {
   "cell_type": "code",
   "execution_count": 9,
   "metadata": {
    "id": "CLYRkzHSugvR"
   },
   "outputs": [],
   "source": [
    "class Person:\n",
    "    # class variable with the only valid titles\n",
    "    allowed_titles = (\"Mr\", \"Mrs\", \"Ms\", \"Senior Researcher\", \"Professor of CS\", \"Computer Scientist\")\n",
    "\n",
    "    def __init__(self, title, name, surname):\n",
    "        title = title.strip()\n",
    "        if title not in Person.allowed_titles:\n",
    "            raise ValueError(\"The title isn't right\")\n",
    "        self.title = title\n",
    "        self.name = name.strip()\n",
    "        self.surname = surname.strip()\n",
    "\n",
    "    def __str__(self):\n",
    "        return self.title + ' ' + self.surname + ' ' + self.name"
   ]
  },
  {
   "cell_type": "markdown",
   "metadata": {
    "id": "ZcjB03J3ugva"
   },
   "source": [
    "**b.** Create two instances of the class Person and verify if the following entries are valid:\n",
    "\n",
    "* _Mr Ian Goodfellow_,\n",
    "* _SeniorResearcher Tomas Mikolov._"
   ]
  },
  {
   "cell_type": "code",
   "execution_count": 10,
   "metadata": {
    "id": "U8jKwHK8ugvc"
   },
   "outputs": [
    {
     "name": "stdout",
     "output_type": "stream",
     "text": [
      "Mr Goodfellow Ian\n",
      "Invalid entry: The title isn't right\n",
      "Senior Researcher Mikolov Tomas\n"
     ]
    }
   ],
   "source": [
    "# valid\n",
    "p1 = Person(\"Mr\", \"Ian\", \"Goodfellow\")\n",
    "print(p1)  # Mr Goodfellow Ian\n",
    "\n",
    "# invalid (no space in \"SeniorResearcher\")\n",
    "try:\n",
    "    p2 = Person(\"SeniorResearcher\", \"Tomas\", \"Mikolov\")\n",
    "    print(p2)\n",
    "except ValueError as e:\n",
    "    print(\"Invalid entry:\", e)\n",
    "\n",
    "# valid version\n",
    "p2_ok = Person(\"Senior Researcher\", \"Tomas\", \"Mikolov\")\n",
    "print(p2_ok)  # Senior Researcher Mikolov Tomas"
   ]
  },
  {
   "cell_type": "markdown",
   "metadata": {
    "id": "sJGqy2Zxugvm"
   },
   "source": [
    "### Task 2\n",
    "\n",
    "In `ScientificConference` we have been using the paper parameter as a string, but this concept requires a detailed structure.\n",
    "\n",
    "Introduce a new class, `Paper`, which has the following attributes:\n",
    "\n",
    "* `authors`, \n",
    "* `title`, \n",
    "* `a_id`,\n",
    "* `year`, \n",
    "* `status` (published or in development), \n",
    "* `peer_rating` (Excellent, Good, Fair, Poor, Barely Acceptable, Unacceptable)."
   ]
  },
  {
   "cell_type": "code",
   "execution_count": 11,
   "metadata": {
    "id": "1hPZ7q3rugvn"
   },
   "outputs": [],
   "source": [
    "class Paper:\n",
    "    def __init__(self, authors, title, a_id, status, year, peer_rating):\n",
    "        if not title or not title.strip():\n",
    "            raise ValueError(\"The title isn't right\")\n",
    "        self.authors = authors\n",
    "        self.title = title\n",
    "        self.a_id = a_id\n",
    "        self.status = status\n",
    "        self.year = year\n",
    "        self.peer_rating = peer_rating\n",
    "\n",
    "    def __str__(self):\n",
    "        return  f'{self.title}, {\", \".join([author for author in self.authors])} et al. ({self.year}), a_id: '\\\n",
    "                f'{self.a_id}, status: {self.status}, rating: {self.peer_rating}'"
   ]
  },
  {
   "cell_type": "markdown",
   "metadata": {
    "id": "j82CL54Augvv"
   },
   "source": [
    "## Inheritence\n",
    "\n",
    "In Object-Oriented programming, this concept enables us to transfer the methods and the properties of a class to another class."
   ]
  },
  {
   "cell_type": "markdown",
   "metadata": {
    "id": "rZqutiFsugvw"
   },
   "source": [
    "### Task 3\n",
    "\n",
    "Create a class named `Researcher`, which inherits the properties and methods from the `Person` class. Besides, this class has an additional parameter, `papers` which is `None` by default.\n",
    "\n",
    "_Note:_ You should check if `papers` is `None` in `__init__` and set it to `[]` instead.\n",
    "\n",
    "```python\n",
    "class Researcher(Person):\n",
    "    def __init__('Add arguments'):\n",
    "        super().__init__(title, name, surname)\n",
    "```"
   ]
  },
  {
   "cell_type": "code",
   "execution_count": 12,
   "metadata": {
    "id": "QCfpoVveugvy"
   },
   "outputs": [],
   "source": [
    "\n",
    "\n",
    "class Researcher(Person):\n",
    "    def __init__(self, title, name, surname, papers=None):\n",
    "        if papers is None:\n",
    "            papers = []\n",
    "        super().__init__(title or \"Mr\", name, surname)\n",
    "        self.papers = list(dict.fromkeys(papers))  # dedupe, preserve order\n",
    "        self.co_authored = False\n",
    "\n",
    "    def verify_co_authorship(self, other):\n",
    "        \"\"\"Set and return whether self ever co-authored a paper with `other`.\"\"\"\n",
    "        shared_ids = {p.a_id for p in self.papers} & {p.a_id for p in other.papers}\n",
    "        self.co_authored = len(shared_ids) > 0\n",
    "        return self.co_authored\n",
    "\n",
    "    def get_collab(self, other):\n",
    "        \"\"\"Return list of papers co-authored by self and other.\"\"\"\n",
    "        other_ids = {p.a_id for p in other.papers}\n",
    "        return [p for p in self.papers if p.a_id in other_ids]\n",
    "\n"
   ]
  },
  {
   "cell_type": "markdown",
   "metadata": {
    "id": "40nAxy14ugv8"
   },
   "source": [
    "### Task 4\n",
    "\n",
    "Consider the following scientists:\n",
    "\n",
    "1.  Paper _Deep Learning_ published by Yann LeCun, Yoshua Bengio, Geoffrey Hinton, in _nature 521_, id = https://doi.org/10.1038/nature14539, peer_rating = Excelent.\n",
    "\n",
    "2. Paper _On the difficulty of training recurrent neural networks_ by Razvan Pascanu, Tomas Mikolov, Professor of computer science Yoshua Bengio, in ICML 2013, id = https://arxiv.org/abs/1211.5063, peer_rating = Excelent.\n",
    "\n",
    "2. Paper _Generative Adversarial Nets_ by Ian Goodfellow and Yoshua Bengio, NeurIPS 2015, id = http://papers.nips.cc/paper/5423-generative-adversarial-nets.pdf, peer_rating = Excelent.\n",
    "\n",
    "3. Paper _Handwritten Digit Recognition with a Back-Propagation Network_ by Computer Scientist Yann LeCun, NeurIPS 1989, id =  https://papers.nips.cc/paper/293-handwritten-digit-recognition-with-a-back-propagation-network, peer_rating = Excelent.\n",
    "\n",
    "4. Paper _Gated Softmax Classification_ by Geoffrey Hintorn, NeurIPS 2010, id = http://papers.neurips.cc/paper/3895-gated-softmax-classification, peer_rating = Good.\n",
    "\n",
    "_Note:_ Let us consider \"Mr\" as a default title for the researchers without a specific caption. Also, for the id of a paper, please use only integers from the provided links.\n",
    "\n",
    "**a.** Define the next 5 scientists and use them in your `paper` objects.\n",
    "\n",
    "**b.** Create the `verify_co_authorship` function inside the `class Researcher` which checks if a certain researcher ever co-authored a paper.\n",
    "_Hint:_ Use `self.co_authored = False` inside the `__init__` function.\n",
    "\n",
    "**c.** Implement the `get_collab` function inside the `class Researcher` to discover the papers written by two researchers.\n",
    "\n",
    "For instance, if Yoshua Bengio is researcher2 and Ian Goodfellow is researcher3, then:\n",
    "\n",
    "`print_papers(researcher2.get_collab(researcher3))` should output:\n",
    "\n",
    "_Generative Adversarial Nets, Mr Ian Goodfellow et al. (2015), a_id: 5423, status: published, rating: Excelent_\n",
    "\n",
    "_Note:_ This function helps you to print the papers from a given list.\n",
    "\n",
    "```python\n",
    "def print_papers(paper_list):\n",
    "    for paper in paper_list:\n",
    "        print(paper)\n",
    "```\n",
    "\n",
    "**d.** What are the papers written by Yoshua Bengio?\n",
    "\n",
    "Expected output:\n",
    "\n",
    "`Deep Learning, Computer Scientist Yann LeCun et al. (2015), a_id: 14539, status: published, rating: Excelent`\n",
    "\n",
    "`Generative Adversarial Nets, Mr Ian Goodfellow et al. (2015), a_id: 5423, status: published, rating: Excelent`\n",
    "\n",
    "`Paper On the difficulty of training recurrent neural networks, Mr Razvan Pascanu et al. (2013), a_id: 5063, status: published, rating: Excelent`\n",
    "\n",
    "**e.** Did he ever co-author a paper?\n",
    "\n",
    "**f.** Which papers are published by Yann LeCun?\n",
    "\n",
    "Expected output:\n",
    "\n",
    "`Deep Learning, Computer Scientist Yann LeCun et al. (2015), a_id: 14539, status: published, rating: Excelent`\n",
    "\n",
    "`Handwritten Digit Recognition with a Back-Propagation Network, Computer Scientist Yann LeCun et al. (1989), a_id: 293, status: published, rating: Good`"
   ]
  },
  {
   "cell_type": "code",
   "execution_count": 13,
   "metadata": {},
   "outputs": [
    {
     "data": {
      "text/plain": [
       "(['Deep Learning, Yann LeCun, Yoshua Bengio, Geoffrey Hinton et al. (2015), a_id: 14539, status: published, rating: Excellent',\n",
       "  'On the difficulty of training recurrent neural networks, Razvan Pascanu, Tomas Mikolov, Yoshua Bengio et al. (2013), a_id: 5063, status: published, rating: Excellent',\n",
       "  'Generative Adversarial Nets, Ian Goodfellow, Yoshua Bengio et al. (2015), a_id: 5423, status: published, rating: Excellent'],\n",
       " True,\n",
       " ['Deep Learning, Yann LeCun, Yoshua Bengio, Geoffrey Hinton et al. (2015), a_id: 14539, status: published, rating: Excellent',\n",
       "  'Handwritten Digit Recognition with a Back-Propagation Network, Yann LeCun et al. (1989), a_id: 293, status: published, rating: Good'])"
      ]
     },
     "execution_count": 13,
     "metadata": {},
     "output_type": "execute_result"
    }
   ],
   "source": [
    "researchers = [\n",
    "    Researcher(\"Mr\", \"Yann\", \"LeCun\"),\n",
    "    Researcher(\"Mr\", \"Yoshua\", \"Bengio\"),\n",
    "    Researcher(\"Mr\", \"Geoffrey\", \"Hinton\"),\n",
    "    Researcher(\"Mr\", \"Ian\", \"Goodfellow\"),\n",
    "    Researcher(\"Mr\", \"Tomas\", \"Mikolov\"),\n",
    "]\n",
    "\n",
    "papers = [\n",
    "    Paper(authors=[\"Yann LeCun\", \"Yoshua Bengio\", \"Geoffrey Hinton\"], title=\"Deep Learning\", a_id=\"14539\", status=\"published\", year=2015, peer_rating=\"Excellent\"),\n",
    "    Paper(authors=[\"Razvan Pascanu\", \"Tomas Mikolov\", \"Yoshua Bengio\"], title=\"On the difficulty of training recurrent neural networks\", a_id=\"5063\", status=\"published\", year=2013, peer_rating=\"Excellent\"),\n",
    "    Paper(authors=[\"Ian Goodfellow\", \"Yoshua Bengio\"], title=\"Generative Adversarial Nets\", a_id=\"5423\", status=\"published\", year=2015, peer_rating=\"Excellent\"),\n",
    "    Paper(authors=[\"Yann LeCun\"], title=\"Handwritten Digit Recognition with a Back-Propagation Network\", a_id=\"293\", status=\"published\", year=1989, peer_rating=\"Good\"),\n",
    "    Paper(authors=[\"Geoffrey Hinton\"], title=\"Gated Softmax Classification\", a_id=\"3895\", status=\"published\", year=2010, peer_rating=\"Good\"),\n",
    "]\n",
    "\n",
    "\n",
    "researchers[0].papers.extend([papers[0], papers[3]])  \n",
    "researchers[1].papers.extend([papers[0], papers[1], papers[2]])  \n",
    "researchers[2].papers.append(papers[0]) \n",
    "researchers[3].papers.append(papers[2])  \n",
    "researchers[4].papers.append(papers[1])  \n",
    "\n",
    "\n",
    "yoshua_papers = [str(paper) for paper in researchers[1].papers]\n",
    "\n",
    "co_author_status = researchers[1].verify_co_authorship(researchers[3])\n",
    "\n",
    "yann_lecun_papers = [str(paper) for paper in researchers[0].papers]\n",
    "\n",
    "yoshua_papers, co_author_status, yann_lecun_papers"
   ]
  },
  {
   "cell_type": "markdown",
   "metadata": {
    "id": "AImKzUZgugv9"
   },
   "source": [
    "### Task 5 \n",
    "\n",
    "Consider an updated version of the `ScientificConference` class, which should have a modified version of the function `add_manuscript`.\n",
    "\n",
    "Use the `status` and the `peer_rating` variables as a **threshold** to add papers in your `papers` dictionary. The conferences will only be accepting `Excelent` papers. For this case, the dictionary has the year of the paper as `key`, and the `values` are stored as a tuple of `(researcher, manuscript)`. For the papers which don't satisfy this condition, the message _\"Please review your submission.\"_ is displayed.\n",
    "\n",
    "For papers submitted in 2015, when printing the conference, the `str` function should output:\n",
    "\n",
    "```\n",
    "NeurIPS 2020: \n",
    "2015: \n",
    "Mr Ian Goodfellow: Generative Adversarial Nets, Mr Ian Goodfellow et al. (2015), id: 5423, status: published, rating: Excelent \n",
    "Computer Scientist Yann LeCun: Deep Learning, Computer Scientist Yann LeCun et al. (2015), id: 14539, status: published, rating: Excelent\n",
    "```"
   ]
  },
  {
   "cell_type": "code",
   "execution_count": null,
   "metadata": {
    "id": "EDsHycjEugv_"
   },
   "outputs": [
    {
     "name": "stdout",
     "output_type": "stream",
     "text": [
      "Please review your submission.\n",
      "NeurIPS 2020: \n",
      "2015: \n",
      "Mr Ian Goodfellow: Generative Adversarial Nets, Ian Goodfellow, Yoshua Bengio et al. (2015), a_id: 5423, status: published, rating: Excellent \n",
      "Computer Scientist Yann LeCun: Deep Learning, Yann LeCun, Yoshua Bengio, Geoffrey Hinton et al. (2015), a_id: 14539, status: published, rating: Excellent \n",
      "2013: \n",
      "Mr Razvan Pascanu: On the difficulty of training recurrent neural networks, Razvan Pascanu, Tomas Mikolov, Yoshua Bengio et al. (2013), a_id: 5063, status: published, rating: Excellent \n",
      "\n"
     ]
    },
    {
     "name": "stderr",
     "output_type": "stream",
     "text": [
      "<>:2: SyntaxWarning: invalid escape sequence '\\ '\n",
      "<>:2: SyntaxWarning: invalid escape sequence '\\ '\n",
      "C:\\Users\\Mario Sakka\\AppData\\Local\\Temp\\ipykernel_21632\\3978242315.py:2: SyntaxWarning: invalid escape sequence '\\ '\n",
      "  \"\"\"\n"
     ]
    }
   ],
   "source": [
    "class ScientificConferenceUpdate:\n",
    "    \"\"\"\n",
    "    To define the properties of a class, \n",
    "    we use a special method called __init__.\n",
    "    \n",
    "    The special variable called \"self\"\n",
    "    helps with associating the attributes\n",
    "    w\\ the new object: similar to `this`\n",
    "    keyword from other programming languages\n",
    "    and required to address variables from\n",
    "    classes. \n",
    "    \"\"\"\n",
    "    def __init__(self, name, year, papers=None):\n",
    "        \"\"\"\n",
    "        Establish the attributes of the\n",
    "        class and assign values to the \n",
    "        corresponding parameters.\n",
    "        \"\"\" \n",
    "        self.name = name\n",
    "        self.year = year\n",
    "        \"\"\"\n",
    "        Add new attribute `papers`\n",
    "        \"\"\"\n",
    "        # dict: year -> list of (researcher, manuscript)\n",
    "        if papers is None:\n",
    "            self.papers = {}\n",
    "        else:\n",
    "            # ensure structure and remove duplicates per (researcher,title)\n",
    "            cleaned = {}\n",
    "            for y, items in papers.items():\n",
    "                seen = set()\n",
    "                lst = []\n",
    "                for (author, paper) in items:\n",
    "                    key = (author, paper.title.strip().lower())\n",
    "                    if key not in seen:\n",
    "                        seen.add(key)\n",
    "                        lst.append((author, paper))\n",
    "                cleaned[y] = lst\n",
    "            self.papers = cleaned\n",
    "    \n",
    "    def add_manuscript(self, manuscript: Paper, researcher):\n",
    "      \n",
    "        # Accept only published + Excellent papers\n",
    "        status = manuscript.status\n",
    "        rating = str(manuscript.peer_rating)\n",
    "        # accept \"Excellent\" regardless of case and tolerate the misspelling \"Excelent\"\n",
    "        is_excellent = rating.lower().startswith(\"excelent\") or rating.lower().startswith(\"excellent\")\n",
    "        if status == \"published\" and is_excellent:\n",
    "            y = manuscript.year\n",
    "            if y not in self.papers:\n",
    "                self.papers[y] = []\n",
    "            # avoid duplicates: same researcher & same title within that year\n",
    "            title_norm = manuscript.title.strip().lower()\n",
    "            if not any(a == researcher and p.title.strip().lower() == title_norm for (a, p) in self.papers[y]):\n",
    "                self.papers[y].append((researcher, manuscript))\n",
    "        else:\n",
    "            print(\"Please review your submission.\")\n",
    "        \n",
    "    def __str__(self):\n",
    "        \"\"\"\n",
    "        To return the String representation of\n",
    "        an object, we use the __str__ method. \n",
    "        \"\"\"\n",
    "        result = self.name + ' ' + str(self.year) + ': \\n'\n",
    "        for year, papers in self.papers.items():\n",
    "            result += f'{year}: \\n'\n",
    "            for (author, paper) in papers: \n",
    "                result += f'{author}: {paper} \\n'\n",
    "        return result\n",
    "\n",
    "\n",
    "conf = ScientificConferenceUpdate(\"NeurIPS\", 2020)# no manuscripts (empty section)\n",
    "\n",
    "\n",
    "\n",
    "\n",
    "conf.add_manuscript(papers[2],  \"Mr Ian Goodfellow\")# Generative Adversarial Nets (2015, Excellent) -> accept\n",
    "conf.add_manuscript(papers[0], \"Computer Scientist Yann LeCun\")# Deep Learning (2015, Excellent) -> accept\n",
    "conf.add_manuscript(papers[4], \"Mr Geoffrey Hinton\")# Gated Softmax (2010, Good) -> reject\n",
    "conf.add_manuscript(papers[1],  \"Mr Razvan Pascanu\")# On the difficulty... (2013, Excellent) -> accept (adds 2013 section)\n",
    "conf.add_manuscript(papers[2],  \"Mr Ian Goodfellow\")# duplicate -> ignored\n",
    "\n",
    "print(conf)\n"
   ]
  }
 ],
 "metadata": {
  "colab": {
   "collapsed_sections": [],
   "name": "Lab03_AI.ipynb",
   "provenance": []
  },
  "kernelspec": {
   "display_name": "base",
   "language": "python",
   "name": "python3"
  },
  "language_info": {
   "codemirror_mode": {
    "name": "ipython",
    "version": 3
   },
   "file_extension": ".py",
   "mimetype": "text/x-python",
   "name": "python",
   "nbconvert_exporter": "python",
   "pygments_lexer": "ipython3",
   "version": "3.12.7"
  }
 },
 "nbformat": 4,
 "nbformat_minor": 4
}
